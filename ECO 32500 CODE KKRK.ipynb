{
 "cells": [
  {
   "cell_type": "code",
   "execution_count": 10,
   "metadata": {},
   "outputs": [],
   "source": [
    "import pandas as pd\n",
    "\n",
    "df = pd.read_csv(\"restaurant_data.csv\")\n",
    "vd = pd.read_csv(\"violation_data.csv\")"
   ]
  },
  {
   "cell_type": "code",
   "execution_count": null,
   "metadata": {},
   "outputs": [
    {
     "ename": "ModuleNotFoundError",
     "evalue": "No module named 'sql_pass'",
     "output_type": "error",
     "traceback": [
      "\u001b[1;31m---------------------------------------------------------------------------\u001b[0m",
      "\u001b[1;31mModuleNotFoundError\u001b[0m                       Traceback (most recent call last)",
      "Cell \u001b[1;32mIn [11], line 2\u001b[0m\n\u001b[0;32m      1\u001b[0m \u001b[39mimport\u001b[39;00m \u001b[39mpyodbc\u001b[39;00m\n\u001b[1;32m----> 2\u001b[0m \u001b[39mfrom\u001b[39;00m \u001b[39msql_pass\u001b[39;00m \u001b[39mimport\u001b[39;00m \u001b[39m*\u001b[39m\n",
      "\u001b[1;31mModuleNotFoundError\u001b[0m: No module named 'sql_pass'"
     ]
    }
   ],
   "source": [
    "import pyodbc\n"
   ]
  },
  {
   "cell_type": "code",
   "execution_count": null,
   "metadata": {},
   "outputs": [],
   "source": [
    "%pip install pyodc"
   ]
  },
  {
   "cell_type": "code",
   "execution_count": 19,
   "metadata": {},
   "outputs": [
    {
     "ename": "InterfaceError",
     "evalue": "('IM002', '[IM002] [Microsoft][ODBC Driver Manager] Data source name not found and no default driver specified (0) (SQLDriverConnect)')",
     "output_type": "error",
     "traceback": [
      "\u001b[1;31m---------------------------------------------------------------------------\u001b[0m",
      "\u001b[1;31mInterfaceError\u001b[0m                            Traceback (most recent call last)",
      "Cell \u001b[1;32mIn [19], line 2\u001b[0m\n\u001b[0;32m      1\u001b[0m \u001b[39mimport\u001b[39;00m \u001b[39mpyodbc\u001b[39;00m \u001b[39mas\u001b[39;00m \u001b[39mpyodbc\u001b[39;00m\n\u001b[1;32m----> 2\u001b[0m conn_sql \u001b[39m=\u001b[39m pyodbc\u001b[39m.\u001b[39;49mconnect(\u001b[39m'\u001b[39;49m\u001b[39mDriver=\u001b[39;49m\u001b[39m{\u001b[39;49m\u001b[39mODBC Driver 17 for SQL Server};\u001b[39;49m\u001b[39m'\u001b[39;49m\n\u001b[0;32m      3\u001b[0m                       \u001b[39m'\u001b[39;49m\u001b[39mServer=johndroescher.com;\u001b[39;49m\u001b[39m'\u001b[39;49m\n\u001b[0;32m      4\u001b[0m                       \u001b[39m'\u001b[39;49m\u001b[39mDatabase=Fall_2022;\u001b[39;49m\u001b[39m'\u001b[39;49m\n\u001b[0;32m      5\u001b[0m                       \u001b[39m'\u001b[39;49m\u001b[39mUID=mariaalguacil66;\u001b[39;49m\u001b[39m'\u001b[39;49m\n\u001b[0;32m      6\u001b[0m                       \u001b[39m'\u001b[39;49m\u001b[39mPWD=Ccny23424266;\u001b[39;49m\u001b[39m'\u001b[39;49m)\n\u001b[0;32m      7\u001b[0m cnxn \u001b[39m=\u001b[39m pyodbc\u001b[39m.\u001b[39mconnect(conn_sql)\n",
      "\u001b[1;31mInterfaceError\u001b[0m: ('IM002', '[IM002] [Microsoft][ODBC Driver Manager] Data source name not found and no default driver specified (0) (SQLDriverConnect)')"
     ]
    }
   ],
   "source": [
    "import pyodbc as pyodbc\n",
    "conn_sql = pyodbc.connect('Driver={ODBC Driver 17 for SQL Server};'\n",
    "                      'Server=johndroescher.com;'\n",
    "                      'Database=Fall_2022;'\n",
    "                      'UID=mariaalguacil66;'\n",
    "                      'PWD=Ccny23424266;')\n",
    "cnxn = pyodbc.connect(conn_sql)"
   ]
  },
  {
   "cell_type": "code",
   "execution_count": 12,
   "metadata": {},
   "outputs": [
    {
     "ename": "NameError",
     "evalue": "name 'sql_pass' is not defined",
     "output_type": "error",
     "traceback": [
      "\u001b[1;31m---------------------------------------------------------------------------\u001b[0m",
      "\u001b[1;31mNameError\u001b[0m                                 Traceback (most recent call last)",
      "Cell \u001b[1;32mIn [12], line 1\u001b[0m\n\u001b[1;32m----> 1\u001b[0m password \u001b[39m=\u001b[39m sql_pass\n\u001b[0;32m      2\u001b[0m username \u001b[39m=\u001b[39m \u001b[39m\"\u001b[39m\u001b[39msa\u001b[39m\u001b[39m\"\u001b[39m\n\u001b[0;32m      3\u001b[0m default_db \u001b[39m=\u001b[39m \u001b[39m\"\u001b[39m\u001b[39mFall_2022\u001b[39m\u001b[39m\"\u001b[39m\n",
      "\u001b[1;31mNameError\u001b[0m: name 'sql_pass' is not defined"
     ]
    }
   ],
   "source": [
    "password = sql_pass\n",
    "username = \"sa\"\n",
    "default_db = \"Fall_2022\"\n",
    "server = \"localhost\"\n",
    "\n",
    "cnxn = pyodbc.connect(\n",
    "    \"DRIVER={ODBC Driver 17 for SQL Server};SERVER=\"\n",
    "    + server\n",
    "    + \";DATABASE=\"\n",
    "    + default_db\n",
    "    + \";UID=\"\n",
    "    + username\n",
    "    + \";PWD=\"\n",
    "    + password\n",
    ")"
   ]
  },
  {
   "cell_type": "code",
   "execution_count": 13,
   "metadata": {},
   "outputs": [
    {
     "ename": "NameError",
     "evalue": "name 'cnxn' is not defined",
     "output_type": "error",
     "traceback": [
      "\u001b[1;31m---------------------------------------------------------------------------\u001b[0m",
      "\u001b[1;31mNameError\u001b[0m                                 Traceback (most recent call last)",
      "Cell \u001b[1;32mIn [13], line 18\u001b[0m\n\u001b[0;32m      1\u001b[0m extract_data \u001b[39m=\u001b[39m pd\u001b[39m.\u001b[39mread_sql(\n\u001b[0;32m      2\u001b[0m \u001b[39m\"\"\"SELECT rest.camis\u001b[39;00m\n\u001b[0;32m      3\u001b[0m \u001b[39m          ,rest.dba\u001b[39;00m\n\u001b[0;32m      4\u001b[0m \u001b[39m          ,rest.bin\u001b[39;00m\n\u001b[0;32m      5\u001b[0m \u001b[39m          ,rest.cuisine_description\u001b[39;00m\n\u001b[0;32m      6\u001b[0m \u001b[39m          ,viol.violation_description\u001b[39;00m\n\u001b[0;32m      7\u001b[0m \u001b[39m          ,viol.action\u001b[39;00m\n\u001b[0;32m      8\u001b[0m \u001b[39m          ,viol.score\u001b[39;00m\n\u001b[0;32m      9\u001b[0m \u001b[39m          ,viol.grade_date\u001b[39;00m\n\u001b[0;32m     10\u001b[0m \u001b[39m          ,viol.inspection_date\u001b[39;00m\n\u001b[0;32m     11\u001b[0m \u001b[39m          ,viol.critical_flag\u001b[39;00m\n\u001b[0;32m     12\u001b[0m \u001b[39m          ,viol.record_date\u001b[39;00m\n\u001b[0;32m     13\u001b[0m \u001b[39m          \u001b[39;00m\n\u001b[0;32m     14\u001b[0m \u001b[39m     FROM dbo.restaurant_data rest\u001b[39;00m\n\u001b[0;32m     15\u001b[0m \u001b[39m          LEFT JOIN dbo.violation_data viol\u001b[39;00m\n\u001b[0;32m     16\u001b[0m \u001b[39m                    ON rest.camis = viol.camis\u001b[39;00m\n\u001b[0;32m     17\u001b[0m \u001b[39m\"\"\"\u001b[39;00m, \n\u001b[1;32m---> 18\u001b[0m cnxn\n\u001b[0;32m     19\u001b[0m )\n",
      "\u001b[1;31mNameError\u001b[0m: name 'cnxn' is not defined"
     ]
    }
   ],
   "source": [
    "extract_data = pd.read_sql(\n",
    "\"\"\"SELECT rest.camis\n",
    "          ,rest.dba\n",
    "          ,rest.bin\n",
    "          ,rest.cuisine_description\n",
    "          ,viol.violation_description\n",
    "          ,viol.action\n",
    "          ,viol.score\n",
    "          ,viol.grade_date\n",
    "          ,viol.inspection_date\n",
    "          ,viol.critical_flag\n",
    "          ,viol.record_date\n",
    "          \n",
    "     FROM dbo.restaurant_data rest\n",
    "          LEFT JOIN dbo.violation_data viol\n",
    "                    ON rest.camis = viol.camis\n",
    "\"\"\", \n",
    "cnxn\n",
    ")"
   ]
  },
  {
   "cell_type": "code",
   "execution_count": 14,
   "metadata": {},
   "outputs": [
    {
     "ename": "NameError",
     "evalue": "name 'extract_data' is not defined",
     "output_type": "error",
     "traceback": [
      "\u001b[1;31m---------------------------------------------------------------------------\u001b[0m",
      "\u001b[1;31mNameError\u001b[0m                                 Traceback (most recent call last)",
      "Cell \u001b[1;32mIn [14], line 1\u001b[0m\n\u001b[1;32m----> 1\u001b[0m extract_data\u001b[39m.\u001b[39mshape\n",
      "\u001b[1;31mNameError\u001b[0m: name 'extract_data' is not defined"
     ]
    }
   ],
   "source": [
    "extract_data.shape"
   ]
  },
  {
   "cell_type": "code",
   "execution_count": null,
   "metadata": {},
   "outputs": [
    {
     "data": {
      "text/plain": [
       "['camis',\n",
       " 'dba',\n",
       " 'bin',\n",
       " 'cuisine_description',\n",
       " 'violation_description',\n",
       " 'action',\n",
       " 'score',\n",
       " 'grade_date',\n",
       " 'inspection_date',\n",
       " 'critical_flag',\n",
       " 'record_date']"
      ]
     },
     "execution_count": 23,
     "metadata": {},
     "output_type": "execute_result"
    }
   ],
   "source": [
    "extract_data.columns.tolist()"
   ]
  },
  {
   "cell_type": "code",
   "execution_count": null,
   "metadata": {},
   "outputs": [
    {
     "ename": "NameError",
     "evalue": "name 'extract_data' is not defined",
     "output_type": "error",
     "traceback": [
      "\u001b[1;31m---------------------------------------------------------------------------\u001b[0m",
      "\u001b[1;31mNameError\u001b[0m                                 Traceback (most recent call last)",
      "Cell \u001b[1;32mIn [16], line 1\u001b[0m\n\u001b[1;32m----> 1\u001b[0m all_data \u001b[39m=\u001b[39m extract_data\u001b[39m.\u001b[39mcopy()\n\u001b[0;32m      2\u001b[0m all_data[\u001b[39m\"\u001b[39m\u001b[39minspection_date\u001b[39m\u001b[39m\"\u001b[39m]\n",
      "\u001b[1;31mNameError\u001b[0m: name 'extract_data' is not defined"
     ]
    }
   ],
   "source": [
    "all_data = extract_data.copy()\n",
    "all_data[\"inspection_date\"]"
   ]
  },
  {
   "cell_type": "code",
   "execution_count": null,
   "metadata": {},
   "outputs": [],
   "source": [
    "all_data[\"inspection_date\"] = pd.to_datetime(all_data[\"inspection_date\"])"
   ]
  },
  {
   "cell_type": "code",
   "execution_count": null,
   "metadata": {},
   "outputs": [
    {
     "data": {
      "text/plain": [
       "camis                             int64\n",
       "dba                              object\n",
       "bin                             float64\n",
       "cuisine_description              object\n",
       "violation_description            object\n",
       "action                           object\n",
       "score                           float64\n",
       "grade_date               datetime64[ns]\n",
       "inspection_date          datetime64[ns]\n",
       "critical_flag                    object\n",
       "record_date              datetime64[ns]\n",
       "dtype: object"
      ]
     },
     "execution_count": 29,
     "metadata": {},
     "output_type": "execute_result"
    }
   ],
   "source": [
    "all_data.dtypes"
   ]
  },
  {
   "cell_type": "code",
   "execution_count": null,
   "metadata": {},
   "outputs": [
    {
     "data": {
      "text/plain": [
       "['camis', 'grade_date', 'inspection_date', 'record_date']"
      ]
     },
     "execution_count": 38,
     "metadata": {},
     "output_type": "execute_result"
    }
   ],
   "source": [
    "# Create base list that includes camis\n",
    "col_names = ['camis']\n",
    "\n",
    "# Loop through column names to create a list of date columns\n",
    "for col in all_data.columns.to_list():\n",
    "    if 'date' in col:\n",
    "        col_names.append(col)\n",
    "\n",
    "col_names"
   ]
  },
  {
   "cell_type": "code",
   "execution_count": null,
   "metadata": {},
   "outputs": [],
   "source": [
    "# List Comprehension that accomplishes what the for loop above accomplishes\n",
    "col_names_2 = [col for col in all_data.columns.to_list() if ('date' in col) or ('camis' in col)]"
   ]
  },
  {
   "cell_type": "code",
   "execution_count": null,
   "metadata": {},
   "outputs": [
    {
     "data": {
      "text/plain": [
       "['camis', 'grade_date', 'inspection_date', 'record_date']"
      ]
     },
     "execution_count": 49,
     "metadata": {},
     "output_type": "execute_result"
    }
   ],
   "source": [
    "col_names_2"
   ]
  },
  {
   "cell_type": "code",
   "execution_count": null,
   "metadata": {},
   "outputs": [
    {
     "data": {
      "text/html": [
       "<div>\n",
       "<style scoped>\n",
       "    .dataframe tbody tr th:only-of-type {\n",
       "        vertical-align: middle;\n",
       "    }\n",
       "\n",
       "    .dataframe tbody tr th {\n",
       "        vertical-align: top;\n",
       "    }\n",
       "\n",
       "    .dataframe thead th {\n",
       "        text-align: right;\n",
       "    }\n",
       "</style>\n",
       "<table border=\"1\" class=\"dataframe\">\n",
       "  <thead>\n",
       "    <tr style=\"text-align: right;\">\n",
       "      <th></th>\n",
       "      <th>camis</th>\n",
       "      <th>grade_date</th>\n",
       "      <th>inspection_date</th>\n",
       "      <th>record_date</th>\n",
       "    </tr>\n",
       "  </thead>\n",
       "  <tbody>\n",
       "    <tr>\n",
       "      <th>0</th>\n",
       "      <td>50010393</td>\n",
       "      <td>2019-10-15</td>\n",
       "      <td>2019-10-15</td>\n",
       "      <td>2022-08-27 06:00:12</td>\n",
       "    </tr>\n",
       "    <tr>\n",
       "      <th>1</th>\n",
       "      <td>50099700</td>\n",
       "      <td>2020-01-30</td>\n",
       "      <td>2020-01-30</td>\n",
       "      <td>2022-08-27 06:00:12</td>\n",
       "    </tr>\n",
       "    <tr>\n",
       "      <th>2</th>\n",
       "      <td>50111874</td>\n",
       "      <td>NaT</td>\n",
       "      <td>2021-09-07</td>\n",
       "      <td>2022-08-27 06:00:12</td>\n",
       "    </tr>\n",
       "    <tr>\n",
       "      <th>3</th>\n",
       "      <td>41640776</td>\n",
       "      <td>2018-12-04</td>\n",
       "      <td>2018-12-04</td>\n",
       "      <td>2022-08-27 06:00:12</td>\n",
       "    </tr>\n",
       "    <tr>\n",
       "      <th>4</th>\n",
       "      <td>50088892</td>\n",
       "      <td>NaT</td>\n",
       "      <td>2019-09-03</td>\n",
       "      <td>2022-08-27 06:00:12</td>\n",
       "    </tr>\n",
       "    <tr>\n",
       "      <th>...</th>\n",
       "      <td>...</td>\n",
       "      <td>...</td>\n",
       "      <td>...</td>\n",
       "      <td>...</td>\n",
       "    </tr>\n",
       "    <tr>\n",
       "      <th>248015</th>\n",
       "      <td>50015281</td>\n",
       "      <td>2018-06-04</td>\n",
       "      <td>2018-06-04</td>\n",
       "      <td>2022-08-27 06:00:12</td>\n",
       "    </tr>\n",
       "    <tr>\n",
       "      <th>248016</th>\n",
       "      <td>50066680</td>\n",
       "      <td>2019-10-25</td>\n",
       "      <td>2019-10-25</td>\n",
       "      <td>2022-08-27 06:00:12</td>\n",
       "    </tr>\n",
       "    <tr>\n",
       "      <th>248017</th>\n",
       "      <td>50045154</td>\n",
       "      <td>NaT</td>\n",
       "      <td>2022-08-22</td>\n",
       "      <td>2022-08-27 06:00:12</td>\n",
       "    </tr>\n",
       "    <tr>\n",
       "      <th>248018</th>\n",
       "      <td>50070200</td>\n",
       "      <td>2020-01-28</td>\n",
       "      <td>2020-01-28</td>\n",
       "      <td>2022-08-27 06:00:12</td>\n",
       "    </tr>\n",
       "    <tr>\n",
       "      <th>248019</th>\n",
       "      <td>50044140</td>\n",
       "      <td>NaT</td>\n",
       "      <td>2022-05-09</td>\n",
       "      <td>2022-08-27 06:00:12</td>\n",
       "    </tr>\n",
       "  </tbody>\n",
       "</table>\n",
       "<p>248020 rows × 4 columns</p>\n",
       "</div>"
      ],
      "text/plain": [
       "           camis grade_date inspection_date         record_date\n",
       "0       50010393 2019-10-15      2019-10-15 2022-08-27 06:00:12\n",
       "1       50099700 2020-01-30      2020-01-30 2022-08-27 06:00:12\n",
       "2       50111874        NaT      2021-09-07 2022-08-27 06:00:12\n",
       "3       41640776 2018-12-04      2018-12-04 2022-08-27 06:00:12\n",
       "4       50088892        NaT      2019-09-03 2022-08-27 06:00:12\n",
       "...          ...        ...             ...                 ...\n",
       "248015  50015281 2018-06-04      2018-06-04 2022-08-27 06:00:12\n",
       "248016  50066680 2019-10-25      2019-10-25 2022-08-27 06:00:12\n",
       "248017  50045154        NaT      2022-08-22 2022-08-27 06:00:12\n",
       "248018  50070200 2020-01-28      2020-01-28 2022-08-27 06:00:12\n",
       "248019  50044140        NaT      2022-05-09 2022-08-27 06:00:12\n",
       "\n",
       "[248020 rows x 4 columns]"
      ]
     },
     "execution_count": 39,
     "metadata": {},
     "output_type": "execute_result"
    }
   ],
   "source": [
    "all_data[col_names]"
   ]
  },
  {
   "cell_type": "code",
   "execution_count": null,
   "metadata": {},
   "outputs": [
    {
     "ename": "NameError",
     "evalue": "name 'all_data' is not defined",
     "output_type": "error",
     "traceback": [
      "\u001b[1;31m---------------------------------------------------------------------------\u001b[0m",
      "\u001b[1;31mNameError\u001b[0m                                 Traceback (most recent call last)",
      "Cell \u001b[1;32mIn [7], line 1\u001b[0m\n\u001b[1;32m----> 1\u001b[0m all_data\u001b[39m.\u001b[39msort_values([\u001b[39m'\u001b[39m\u001b[39mcamis\u001b[39m\u001b[39m'\u001b[39m, \u001b[39m'\u001b[39m\u001b[39minspection_date\u001b[39m\u001b[39m'\u001b[39m])\u001b[39m.\u001b[39mgroupby(\u001b[39m'\u001b[39m\u001b[39mcamis\u001b[39m\u001b[39m'\u001b[39m)[\u001b[39m'\u001b[39m\u001b[39minspection_date\u001b[39m\u001b[39m'\u001b[39m]\u001b[39m.\u001b[39mlast()\n",
      "\u001b[1;31mNameError\u001b[0m: name 'all_data' is not defined"
     ]
    }
   ],
   "source": [
    "all_data.sort_values(['camis', 'inspection_date']).groupby('camis')['inspection_date'].last()"
   ]
  },
  {
   "cell_type": "code",
   "execution_count": null,
   "metadata": {},
   "outputs": [
    {
     "data": {
      "text/plain": [
       "2022-08-27 06:00:12    243166\n",
       "2022-08-27 06:00:16      4148\n",
       "2022-08-27 06:00:14       706\n",
       "Name: record_date, dtype: int64"
      ]
     },
     "execution_count": 54,
     "metadata": {},
     "output_type": "execute_result"
    }
   ],
   "source": [
    "all_data[col_names].record_date.value_counts()"
   ]
  },
  {
   "cell_type": "code",
   "execution_count": null,
   "metadata": {},
   "outputs": [
    {
     "ename": "NameError",
     "evalue": "name 'all_data' is not defined",
     "output_type": "error",
     "traceback": [
      "\u001b[1;31m---------------------------------------------------------------------------\u001b[0m",
      "\u001b[1;31mNameError\u001b[0m                                 Traceback (most recent call last)",
      "Cell \u001b[1;32mIn [12], line 1\u001b[0m\n\u001b[1;32m----> 1\u001b[0m all_data\u001b[39m.\u001b[39msort_values([\u001b[39m'\u001b[39m\u001b[39mcamis\u001b[39m\u001b[39m'\u001b[39m, \u001b[39m'\u001b[39m\u001b[39minspection_date\u001b[39m\u001b[39m'\u001b[39m])\u001b[39m.\u001b[39mgroupby(\u001b[39m'\u001b[39m\u001b[39mcamis\u001b[39m\u001b[39m'\u001b[39m)[\u001b[39m'\u001b[39m\u001b[39minspection_date\u001b[39m\u001b[39m'\u001b[39m]\u001b[39m.\u001b[39mfirst()\n",
      "\u001b[1;31mNameError\u001b[0m: name 'all_data' is not defined"
     ]
    }
   ],
   "source": [
    "all_data.sort_values(['camis', 'inspection_date']).groupby('camis')['inspection_date'].first()"
   ]
  },
  {
   "cell_type": "code",
   "execution_count": null,
   "metadata": {},
   "outputs": [],
   "source": [
    "# Create new df for holding max / min inspection dates\n",
    "inspection_date_df = pd.DataFrame(index=all_data['camis'].unique())\n",
    "\n",
    "# Add min inspection date by camis\n",
    "inspection_date_df['min'] = all_data.groupby('camis')['inspection_date'].min()\n",
    "\n",
    "# Add record date by camis\n",
    "inspection_date_df['record'] = all_data.groupby('camis')['record_date'].max()\n",
    "\n",
    "# Add max inspection date by camis\n",
    "inspection_date_df['max'] = all_data.groupby('camis')['inspection_date'].max()\n",
    "\n",
    "# Add columns of calculated differeces in date\n",
    "inspection_date_df['days_open'] = inspection_date_df[['min', 'record']].diff(axis=1)['record']\n",
    "inspection_date_df['days_since_inspec'] = inspection_date_df[['max', 'record']].diff(axis=1)['record']"
   ]
  },
  {
   "cell_type": "code",
   "execution_count": null,
   "metadata": {},
   "outputs": [],
   "source": [
    "inspection_date_df['date_diff_yrs'] = inspection_date_df.date_diff / dt.timedelta(365)"
   ]
  },
  {
   "cell_type": "code",
   "execution_count": null,
   "metadata": {},
   "outputs": [
    {
     "data": {
      "text/html": [
       "<div>\n",
       "<style scoped>\n",
       "    .dataframe tbody tr th:only-of-type {\n",
       "        vertical-align: middle;\n",
       "    }\n",
       "\n",
       "    .dataframe tbody tr th {\n",
       "        vertical-align: top;\n",
       "    }\n",
       "\n",
       "    .dataframe thead th {\n",
       "        text-align: right;\n",
       "    }\n",
       "</style>\n",
       "<table border=\"1\" class=\"dataframe\">\n",
       "  <thead>\n",
       "    <tr style=\"text-align: right;\">\n",
       "      <th></th>\n",
       "      <th>min</th>\n",
       "      <th>max</th>\n",
       "      <th>date_diff</th>\n",
       "      <th>date_diff_yrs</th>\n",
       "    </tr>\n",
       "  </thead>\n",
       "  <tbody>\n",
       "    <tr>\n",
       "      <th>50010393</th>\n",
       "      <td>2019-07-25</td>\n",
       "      <td>2022-08-27 06:00:12</td>\n",
       "      <td>1129 days 06:00:12</td>\n",
       "      <td>3.093836</td>\n",
       "    </tr>\n",
       "    <tr>\n",
       "      <th>50099700</th>\n",
       "      <td>2019-11-18</td>\n",
       "      <td>2022-08-27 06:00:14</td>\n",
       "      <td>1013 days 06:00:14</td>\n",
       "      <td>2.776028</td>\n",
       "    </tr>\n",
       "    <tr>\n",
       "      <th>50111874</th>\n",
       "      <td>2021-09-07</td>\n",
       "      <td>2022-08-27 06:00:12</td>\n",
       "      <td>354 days 06:00:12</td>\n",
       "      <td>0.970548</td>\n",
       "    </tr>\n",
       "    <tr>\n",
       "      <th>41640776</th>\n",
       "      <td>2018-12-04</td>\n",
       "      <td>2022-08-27 06:00:12</td>\n",
       "      <td>1362 days 06:00:12</td>\n",
       "      <td>3.732192</td>\n",
       "    </tr>\n",
       "    <tr>\n",
       "      <th>50088892</th>\n",
       "      <td>2019-09-03</td>\n",
       "      <td>2022-08-27 06:00:12</td>\n",
       "      <td>1089 days 06:00:12</td>\n",
       "      <td>2.984247</td>\n",
       "    </tr>\n",
       "    <tr>\n",
       "      <th>...</th>\n",
       "      <td>...</td>\n",
       "      <td>...</td>\n",
       "      <td>...</td>\n",
       "      <td>...</td>\n",
       "    </tr>\n",
       "    <tr>\n",
       "      <th>50110882</th>\n",
       "      <td>2021-08-04</td>\n",
       "      <td>2022-08-27 06:00:12</td>\n",
       "      <td>388 days 06:00:12</td>\n",
       "      <td>1.063699</td>\n",
       "    </tr>\n",
       "    <tr>\n",
       "      <th>50107959</th>\n",
       "      <td>2021-11-29</td>\n",
       "      <td>2022-08-27 06:00:12</td>\n",
       "      <td>271 days 06:00:12</td>\n",
       "      <td>0.743151</td>\n",
       "    </tr>\n",
       "    <tr>\n",
       "      <th>50100378</th>\n",
       "      <td>2020-02-13</td>\n",
       "      <td>2022-08-27 06:00:12</td>\n",
       "      <td>926 days 06:00:12</td>\n",
       "      <td>2.537672</td>\n",
       "    </tr>\n",
       "    <tr>\n",
       "      <th>50117920</th>\n",
       "      <td>2022-01-05</td>\n",
       "      <td>2022-08-27 06:00:12</td>\n",
       "      <td>234 days 06:00:12</td>\n",
       "      <td>0.641781</td>\n",
       "    </tr>\n",
       "    <tr>\n",
       "      <th>50067499</th>\n",
       "      <td>2022-06-16</td>\n",
       "      <td>2022-08-27 06:00:12</td>\n",
       "      <td>72 days 06:00:12</td>\n",
       "      <td>0.197946</td>\n",
       "    </tr>\n",
       "  </tbody>\n",
       "</table>\n",
       "<p>23812 rows × 4 columns</p>\n",
       "</div>"
      ],
      "text/plain": [
       "                min                 max          date_diff  date_diff_yrs\n",
       "50010393 2019-07-25 2022-08-27 06:00:12 1129 days 06:00:12       3.093836\n",
       "50099700 2019-11-18 2022-08-27 06:00:14 1013 days 06:00:14       2.776028\n",
       "50111874 2021-09-07 2022-08-27 06:00:12  354 days 06:00:12       0.970548\n",
       "41640776 2018-12-04 2022-08-27 06:00:12 1362 days 06:00:12       3.732192\n",
       "50088892 2019-09-03 2022-08-27 06:00:12 1089 days 06:00:12       2.984247\n",
       "...             ...                 ...                ...            ...\n",
       "50110882 2021-08-04 2022-08-27 06:00:12  388 days 06:00:12       1.063699\n",
       "50107959 2021-11-29 2022-08-27 06:00:12  271 days 06:00:12       0.743151\n",
       "50100378 2020-02-13 2022-08-27 06:00:12  926 days 06:00:12       2.537672\n",
       "50117920 2022-01-05 2022-08-27 06:00:12  234 days 06:00:12       0.641781\n",
       "50067499 2022-06-16 2022-08-27 06:00:12   72 days 06:00:12       0.197946\n",
       "\n",
       "[23812 rows x 4 columns]"
      ]
     },
     "execution_count": 105,
     "metadata": {},
     "output_type": "execute_result"
    }
   ],
   "source": [
    "inspection_date_df[inspection_date_df.date_diff_yrs < 20]"
   ]
  },
  {
   "cell_type": "code",
   "execution_count": null,
   "metadata": {},
   "outputs": [],
   "source": [
    "inspection_date_df['closed'] = inspection_date_df.days_since_inspec > dt.timedelta(365)"
   ]
  },
  {
   "cell_type": "code",
   "execution_count": null,
   "metadata": {},
   "outputs": [
    {
     "data": {
      "text/plain": [
       "50010393    False\n",
       "50099700    False\n",
       "50111874    False\n",
       "41640776    False\n",
       "50088892    False\n",
       "            ...  \n",
       "50122875     True\n",
       "50120707     True\n",
       "50116939     True\n",
       "50117920    False\n",
       "50067499    False\n",
       "Name: closed, Length: 27960, dtype: bool"
      ]
     },
     "execution_count": 127,
     "metadata": {},
     "output_type": "execute_result"
    }
   ],
   "source": [
    "all_data.merge(inspection_date_df['closed'])"
   ]
  },
  {
   "cell_type": "code",
   "execution_count": null,
   "metadata": {},
   "outputs": [],
   "source": [
    "inspection_date_df"
   ]
  },
  {
   "cell_type": "code",
   "execution_count": null,
   "metadata": {},
   "outputs": [
    {
     "name": "stdout",
     "output_type": "stream",
     "text": [
      "2250\n"
     ]
    }
   ],
   "source": [
    "no_of_lectures = 30\n",
    "mins_in_lecture = 75\n",
    "total_mins = 0\n",
    "\n",
    "for lecture in range(no_of_lectures):\n",
    "    total_mins += mins_in_lecture\n",
    "print(total_mins)"
   ]
  },
  {
   "cell_type": "code",
   "execution_count": null,
   "metadata": {},
   "outputs": [
    {
     "name": "stdout",
     "output_type": "stream",
     "text": [
      "           camis                                           dba       boro  \\\n",
      "0       50010393                                           NaN        NaN   \n",
      "1       50099700                                           NaN        NaN   \n",
      "2       50111874                                           NaN        NaN   \n",
      "3       41640776                                           NaN        NaN   \n",
      "4       50088892                                           NaN        NaN   \n",
      "...          ...                                           ...        ...   \n",
      "248015  50015281                                MALAYSIA GRILL  Manhattan   \n",
      "248016  50066680                  ADDICTIVE WINE BAR & TAPAS 1     Queens   \n",
      "248017  50045154  RIU PLAZA (Fashion Bar & Kitchen, Grab & Go)  Manhattan   \n",
      "248018  50070200                      SAHARA'S TURKISH CUISINE  Manhattan   \n",
      "248019  50044140                                BOULE & CHERIE  Manhattan   \n",
      "\n",
      "                    inspection_date  \n",
      "0       2019-10-15 00:00:00.0000000  \n",
      "1       2020-01-30 00:00:00.0000000  \n",
      "2       2021-09-07 00:00:00.0000000  \n",
      "3       2018-12-04 00:00:00.0000000  \n",
      "4       2019-09-03 00:00:00.0000000  \n",
      "...                             ...  \n",
      "248015  2018-06-04 00:00:00.0000000  \n",
      "248016  2019-10-25 00:00:00.0000000  \n",
      "248017  2022-08-22 00:00:00.0000000  \n",
      "248018  2020-01-28 00:00:00.0000000  \n",
      "248019  2022-05-09 00:00:00.0000000  \n",
      "\n",
      "[248020 rows x 4 columns]\n"
     ]
    }
   ],
   "source": [
    "filter_columns = all_data.filter(items=[\"camis\", \"dba\", \"boro\", \"inspection_date\"])\n",
    "print(filter_columns)"
   ]
  }
 ],
 "metadata": {
  "kernelspec": {
   "display_name": "Python 3 (ipykernel)",
   "language": "python",
   "name": "python3"
  },
  "language_info": {
   "codemirror_mode": {
    "name": "ipython",
    "version": 3
   },
   "file_extension": ".py",
   "mimetype": "text/x-python",
   "name": "python",
   "nbconvert_exporter": "python",
   "pygments_lexer": "ipython3",
   "version": "3.10.8"
  },
  "vscode": {
   "interpreter": {
    "hash": "26de051ba29f2982a8de78e945f0abaf191376122a1563185a90213a26c5da77"
   }
  }
 },
 "nbformat": 4,
 "nbformat_minor": 4
}
